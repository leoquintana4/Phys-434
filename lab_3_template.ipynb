{
 "cells": [
  {
   "cell_type": "markdown",
   "id": "75c31b8e",
   "metadata": {},
   "source": [
    "# Lab 3 Template\n",
    "\n",
    "**Author:** [YOUR NAME]\n",
    "\n",
    "**Course:** Physics 434 - Data Analysis Lab  \n",
    "\n",
    "In this laboratory we will practice Monte Carlo integration methods and implement the Ising model. We'll explore how statistical methods can be used to solve complex physical problems numerically.\n",
    "\n",
    "## Key Concepts\n",
    "- Monte Carlo integration -- rejection method\n",
    "- Statistical sampling and uncertainty\n",
    "- Ising model and phase transitions\n",
    "- Metropolis algorithm -- probability condition\n"
   ]
  },
  {
   "cell_type": "markdown",
   "id": "77506163",
   "metadata": {},
   "source": [
    "## Import Libraries\n",
    "\n",
    "**TODO:** Import necessary libraries for this lab."
   ]
  },
  {
   "cell_type": "code",
   "execution_count": null,
   "id": "f43594ee",
   "metadata": {},
   "outputs": [],
   "source": [
    "# TODO: Import numpy, matplotlib.pyplot, and any other necessary libraries\n",
    "# Set numpy random seed for reproducibility\n",
    "\n",
    "# import numpy as np\n",
    "# import matplotlib.pyplot as plt\n",
    "# np.random.seed(42)"
   ]
  },
  {
   "cell_type": "markdown",
   "id": "883c1ade",
   "metadata": {},
   "source": [
    "# Part I: Sphere in 3D Monte Carlo Integration\n",
    "\n",
    "We will use Monte Carlo methods to calculate the mass of a sphere with different density distributions. The basic idea is to:\n",
    "1. Generate random points in a cube that encloses the sphere\n",
    "2. Check which points fall inside the sphere\n",
    "3. Use these points to estimate integrals\n",
    "\n",
    "## Part A: Uniform Density (3 pt)\n",
    "\n",
    "For a sphere of radius 1 with uniform density ρ = 2.0, calculate the mass using Monte Carlo integration."
   ]
  },
  {
   "cell_type": "markdown",
   "id": "bf431eb5",
   "metadata": {},
   "source": [
    "**Monte Carlo Integration Theory:**\n",
    "\n",
    "Monte Carlo integration is a powerful numerical technique that uses random sampling to estimate integrals. For a 3D sphere problem, we:\n",
    "\n",
    "1. **Enclosing Volume**: Use a cube from [-1,1]³ (volume = 8) that contains the unit sphere\n",
    "2. **Random Sampling**: Generate N random points uniformly distributed in this cube\n",
    "3. **Hit-or-Miss**: Check which points fall inside the sphere (x² + y² + z² < 1)\n",
    "4. **Integration Formula**: Estimate the integral using:\n",
    "   $$\\text{Mass} = V_{cube} \\times \\frac{1}{N} \\sum_{i=1}^{N} \\rho(x_i, y_i, z_i) \\times I(x_i, y_i, z_i)$$\n",
    "   where I(x,y,z) = 1 if point is inside sphere, 0 otherwise\n",
    "\n",
    "**Statistical Uncertainty:**\n",
    "- Standard error decreases as σ ∝ 1/√N (slow convergence!)\n",
    "- Uncertainty estimate: σ ≈ np.sqrt(p * (1 - p) / N) * cube_volume * density, where p is fraction of acceptance.\n",
    "- For uniform distribution in [-1,1]: np.sqrt(p * (1 - p)) = √((1-(-1))²/12) = √(1/3) ≈ 0.577\n",
    "check if it's true.\n"
   ]
  },
  {
   "cell_type": "code",
   "execution_count": null,
   "id": "f8a7056b",
   "metadata": {},
   "outputs": [],
   "source": [
    "# TODO: Step 1 - Generate random points function\n",
    "# Use np.random.uniform(-1.0, 1.0, N) for each coordinate\n",
    "\n",
    "# TODO: Step 2 - Index function for sphere  \n",
    "# Check condition: x² + y² + z² < 1\n",
    "\n",
    "# TODO: Step 3 - Uniform density function\n",
    "# Return constant density = 2.0 for all points\n",
    "\n",
    "# TODO: Step 4 - Mass calculation with uncertainty\n",
    "# Apply Monte Carlo formula: V_cube/N * sum(density * inside)\n",
    "# Calculate uncertainty: V_cube * 0.577 / sqrt(N)\n",
    "\n",
    "# TODO: Test with N=100 and print results\n",
    "\n",
    "# print(f'Mass estimate (N=100): {mass_100:.3f} ± {uncertainty_100:.3f}')\n",
    "# print(f'Theoretical value: {theoretical:.3f}')\n",
    "# print(f'Relative error: {abs(mass_100 - theoretical)/theoretical * 100:.1f}%')"
   ]
  },
  {
   "cell_type": "markdown",
   "id": "9a447d82",
   "metadata": {},
   "source": [
    "**Convergence Analysis:**\n",
    "\n",
    "Study how Monte Carlo estimates improve with more samples (N).\n",
    "\n",
    "**Key Concepts:**\n",
    "- Error decreases as 1/√N (slow convergence)"
   ]
  },
  {
   "cell_type": "code",
   "execution_count": null,
   "id": "eee5676b",
   "metadata": {},
   "outputs": [],
   "source": [
    "# TODO: Convergence analysis implementation\n",
    "# Create N_values array from 100 to 100,000\n",
    "\n",
    "# N_values = np.linspace(100, 100000, 100, dtype=int)\n",
    "# masses = []\n",
    "# uncertainties = []\n",
    "\n",
    "# TODO: Loop over N values and collect mass estimates and uncertainties\n",
    "\n",
    "\n",
    "# TODO: Create 2 figure with two subplots: convergence plot and uncertainty scaling to 1/√N \n",
    "\n",
    "# ax1.scatter(N_values, masses, label='MC estimates' ...\n",
    "# ax1.fill_between(N_values, masses - uncertainties, masses + uncertainties ...\n",
    "# ax2.loglog(N_values, uncertainties ...\n",
    "# theoretical_scaling = uncertainties[0] * np.sqrt(N_values[0] / N_values)\n",
    "# ax2.loglog(N_values, theoretical_scaling ...\n",
    "\n",
    "# TODO: Print results\n",
    "\n",
    "# final_error = abs(masses[-1] - theoretical) / theoretical * 100\n",
    "# print(f\"\\nFinal results (N={N_values[-1]}):\")\n",
    "# print(f\"Mass: {masses[-1]:.4f} ± {uncertainties[-1]:.4f}\")\n",
    "# print(f\"Relative error: {final_error:.2f}%\")"
   ]
  },
  {
   "cell_type": "markdown",
   "id": "34eef5d7",
   "metadata": {},
   "source": [
    "## Part B: Linear Density (3 pt)\n",
    "\n",
    "**Variable Density:** ρ(r) = ρ₀r where r = √(x² + y² + z²)\n",
    "\n",
    "**Theory:** \n",
    "- Density increases with distance from center\n",
    "- Analytical result: M = πρ₀ = 2π ≈ 6.283\n",
    "- Same Monte Carlo method, different density function\n",
    "\n",
    "**Requirements:**\n",
    "- Implement `linear_density(x, y, z)` function  \n",
    "- Find N needed for 1% accuracy you can use scaling \n",
    "- Compare with theoretical value"
   ]
  },
  {
   "cell_type": "code",
   "execution_count": null,
   "id": "75747cbf",
   "metadata": {},
   "outputs": [],
   "source": [
    "# TODO: Implement linear density function\n",
    "# Calculate r = sqrt(x² + y² + z²), then return ρ₀ × r\n",
    "\n",
    "# TODO: Find N for 1% accuracy\n",
    "# Use scaling relationship: N_new = N_old × (σ_old / σ_target)²\n",
    "\n",
    "# TODO: Calculate mass with linear density large N\n",
    "# Compare with theoretical value \n",
    "\n",
    "# print(f\"\\nFor 1% accuracy:\")\n",
    "# print(f\"Target uncertainty: {target_uncertainty:.4f}\")\n",
    "# print(f\"Required N: {N_1_percent:.0f}\")\n",
    "\n",
    "# print(f\"Verification: mass = {mass_1p:.4f} ± {unc_1p:.4f}\")\n",
    "# print(f\"Actual error: {actual_error:.2f}%\")"
   ]
  },
  {
   "cell_type": "markdown",
   "id": "ab40d251",
   "metadata": {},
   "source": [
    "## Bonus 1: Exponential Density (1 pt)\n",
    "\n",
    "Consider a density that is an unit exponential function of the radius according to $$\\rho(r)=1/\\rho_0 e^{-\\rho_0 r}$$"
   ]
  },
  {
   "cell_type": "code",
   "execution_count": null,
   "id": "dcdbd84f",
   "metadata": {},
   "outputs": [],
   "source": [
    "# TODO: Implement exponential_density(x, y, z, rho0=1.0) returning exp(-rho0*r)/rho0\n",
    "\n",
    "# TODO: Calculate mass_exp and unc_exp using monte_carlo_integration with N\n",
    "\n",
    "# TODO: Create convergence comparison plot vs N,  set theoretical value for comparison"
   ]
  },
  {
   "cell_type": "markdown",
   "id": "5999c682",
   "metadata": {},
   "source": [
    "# Part II: Ising Model (4 pt)\n",
    "\n",
    "**Statistical Mechanics Background:**\n",
    "\n",
    "The **Ising model** is a mathematical model of ferromagnetism in statistical mechanics. It describes a system of discrete spins that can be in one of two states (+1 or -1) arranged on a lattice.\n",
    "\n",
    "**Physical Motivation:**\n",
    "- Models magnetic materials like iron\n",
    "- Each lattice site represents an atomic magnetic moment\n",
    "- Spins prefer to align with neighbors (ferromagnetic coupling)\n",
    "- Temperature creates thermal fluctuations that oppose ordering\n",
    "- Results in **phase transition** between ordered and disordered states\n",
    "\n",
    "**Energy Function:**\n",
    "$$H(S)=-\\frac{J}{2}\\sum_{i,j} s_{i,j} (s_{i+1,j}+s_{i-1,j}+s_{i,j+1}+s_{i,j-1})$$\n",
    "\n",
    "Where:\n",
    "- **J > 0**: Ferromagnetic coupling (favors parallel spins)\n",
    "- **⟨i,j⟩**: Sum over nearest neighbors only\n",
    "- **s_i ∈ {-1, +1}**: Spin values\n",
    "\n",
    "Without loss of generizability, we choose a parameterization that $J=1$ and $k_B=1$.\n",
    "\n",
    "**Key Physics:**\n",
    "- **Low T**: Thermal energy << J → spins align → ordered (ferromagnetic) phase\n",
    "- **High T**: Thermal energy >> J → spins random → disordered (paramagnetic) phase  \n",
    "- **Critical temperature T_c**: Phase transition occurs\n",
    "- **2D Ising exact result**: T_c = 2J/ln(1+√2) ≈ 2.269 (for J=1)\n",
    "\n",
    "**Metropolis Algorithm:**\n",
    "Uses Monte Carlo sampling to generate configurations according to Boltzmann distribution:\n",
    "P(configuration) ∝ $e^{-\\Delta E/T}$, with $T=1.5$.\n",
    "\n",
    "**Algorithm Steps:**\n",
    "1. Choose random spin\n",
    "2. Calculate energy change ΔE if flipped  \n",
    "3. Accept flip with probability min(1, exp(-ΔE/T))\n",
    "4. Repeat many times to reach equilibrium\n"
   ]
  },
  {
   "cell_type": "markdown",
   "id": "206a3747",
   "metadata": {},
   "source": [
    "## Step 1: Initialize Lattice\n",
    "\n",
    "**Lattice Setup:**\n",
    "- 10×10 lattice with periodic boundaries (edges wrap around)\n",
    "- Initial state: all spins = +1\n",
    "- Each spin has exactly 4 neighbors"
   ]
  },
  {
   "cell_type": "code",
   "execution_count": null,
   "id": "791e03c8",
   "metadata": {},
   "outputs": [],
   "source": [
    "# TODO: Initialize 10x10 lattice with all spins = +1\n",
    "# Use np.ones((L, L), dtype=int) for integer spins\n",
    "\n",
    "# TODO: Test lattice creation and print shape and initial magnetization"
   ]
  },
  {
   "cell_type": "markdown",
   "id": "c5e8e35d",
   "metadata": {},
   "source": [
    "## Step 2: Energy Calculation\n",
    "\n",
    "**Energy Function:** E = -J Σ s_i s_j (sum over nearest neighbors)\n",
    "\n",
    "**Key Points:**\n",
    "- Parallel spins (+1,+1 or -1,-1): contribute -J (lower energy)\n",
    "- Antiparallel spins (+1,-1): contribute +J (higher energy)  \n",
    "- Use periodic boundaries: neighbors wrap around edges\n",
    "- Avoid double-counting pairs\n",
    "\n",
    "**Test if your energy function is correct:**\n",
    "\n",
    "for a Test lattice (3x3):\n",
    "\n",
    "[[1 1 1]\n",
    " [1 1 1]\n",
    " [1 1 1]]\n",
    " \n",
    "Total energy: -18.0"
   ]
  },
  {
   "cell_type": "code",
   "execution_count": null,
   "id": "215b9e5b",
   "metadata": {},
   "outputs": [],
   "source": [
    "# TODO: Calculate total energy from 4 neighbor coordinates (avoid double counting!)\n",
    "# Count each pair once: only right and down neighbors\n",
    "\n",
    "# TODO: Energy change if spin (i,j) flips\n",
    "# ΔE = -2 × local_energy (since spin changes sign)\n",
    "\n",
    "# TODO: Test your energy function with small lattice and print results "
   ]
  },
  {
   "cell_type": "markdown",
   "id": "5f4c0387",
   "metadata": {},
   "source": [
    "## Step 3: Metropolis Algorithm: Magnetization vs. N\n",
    "\n",
    "Calculate the magnitization $$<M>=\\frac{1}{N} \\sum_{i,j\\in\\Lambda} s_{i,j}$$ as function of MC steps $N$. Plot $<M>$ as function of $N$ where $N$ starts from 0 to 10000 with step size $\\Delta N=100$. Does the magnitization converge to an equillibrium value?\n",
    "\n",
    "**Algorithm:**\n",
    "1. Choose random spin\n",
    "2. Calculate energy change ΔE if flipped\n",
    "3. Accept flip with probability min(1, exp(-ΔE/T))\n",
    "4. Repeat for N times\n",
    "\n",
    "**Important Grading requirement:**\n",
    "> **💡 Note:** This MC algorithm is partially given, but you need to explain what each line stands for.\n"
   ]
  },
  {
   "cell_type": "code",
   "execution_count": null,
   "id": "3035065d",
   "metadata": {},
   "outputs": [],
   "source": [
    "# TODO: Implement Metropolis algorithm\n",
    "\n",
    "# TODO: Monte Carlo sweep (L² attempts) using Metropolis algorithm \n",
    "# Perform L² individual spin flip attempts, return updated configuration\n",
    "\n",
    "# def MCmove(config, T):\n",
    "#     for i in range(L):\n",
    "#         for j in range(L):\n",
    "#                 a = np.random.randint(0, L)\n",
    "#                 b = np.random.randint(0, L)\n",
    "#                 spin =  config[a, b]\n",
    "#                 neighbors = config[(a+1)%L,b] + ... # its 4 neighbors\n",
    "#                 delE = 2*spin*neighbors # Explain why\n",
    "#                 if delE < 0:\n",
    "#                     spin *= -1\n",
    "#                 elif rand() < np.exp(-delE/T): # What are we doing here?\n",
    "#                     spin *= -1\n",
    "#                 config[a, b] = spin\n",
    "#     return config\n",
    "\n",
    "# TODO: Full simulation with observable measurement\n",
    "# Run multiple sweeps (MC steps), sample magnetization and energy every few sweeps\n",
    "\n",
    "# TODO:Plot average Magnetization as function of N (number of MC steps)\n",
    "\n",
    "# plt.scatter(Steps, M_avg, s=50, marker='o', color='RoyalBlue')\n",
    "# plt.xlabel('N (T = {:.2f})'.format(T), fontsize=20); \n",
    "# plt.ylabel(\"Magnetization \", fontsize=20); "
   ]
  },
  {
   "cell_type": "markdown",
   "id": "39d39dc1",
   "metadata": {},
   "source": [
    "## Bonus 2: Temperature Study (4 pt)\n",
    "\n",
    "**Goal:** Observe ferromagnetic phase transition in physics observables around T_critical= 2.0 / np.log(1 + np.sqrt(2))\n",
    "\n",
    "\n",
    "**Method:**\n",
    "- Study temperatures $T$ from 1.5 to 3.25 with 10 steps.\n",
    "- For each T: equilibrate with 10000 MC sampling → measure → record averages \n",
    "- Plot Magnetization, Energy, Susceptibility, Heat capacity vs. temperature\n",
    "\n",
    "**Expected:** \n",
    "- Low T: high |m|, low energy (ordered)\n",
    "- High T: low |m|, high energy (disordered)\n",
    "- Transition around T_c = 2.269\n",
    "\n",
    "**Observable Quantities:**\n",
    "- **Magnetization**: $\\langle m \\rangle = \\frac{1}{N_{steps}} \\sum_{i=1}^{N_{steps}} M_i$ (order parameter) - measures degree of spin alignment\n",
    "- **Energy**: $\\langle e \\rangle = \\frac{1}{N_{steps}} \\sum_{i=1}^{N_{steps}} E_i$ (average energy per spin) - indicates thermal state of the system\n",
    "- **Susceptibility**: $\\chi = \\frac{1}{k_B T}(\\langle M^2 \\rangle - \\langle M \\rangle^2) = \\frac{1}{T}\\left(\\frac{1}{N_{steps}}\\sum_{i=1}^{N_{steps}} M_i^2 - \\left(\\frac{1}{N_{steps}}\\sum_{i=1}^{N_{steps}} M_i\\right)^2\\right)$ - measures response to external magnetic field, peaks at phase transition\n",
    "- **Heat capacity**: $C = \\frac{1}{k_B T}(\\langle E^2 \\rangle - \\langle E \\rangle^2) = \\frac{1}{T}\\left(\\frac{1}{N_{steps}}\\sum_{i=1}^{N_{steps}} E_i^2 - \\left(\\frac{1}{N_{steps}}\\sum_{i=1}^{N_{steps}} E_i\\right)^2\\right)$ - quantifies energy fluctuations, shows anomaly at critical temperature\n",
    "\n",
    "*Note that we have chosen $k_B=1$ for this exercise*"
   ]
  },
  {
   "cell_type": "code",
   "execution_count": null,
   "id": "066472fd",
   "metadata": {},
   "outputs": [],
   "source": [
    "# TODO: Scan temperatures from 1.5 to 3.25 with 10 steps\n",
    "# Loop over temperatures: equilibrate, measure, record averages\n",
    "\n",
    "# TODO: Create 4 plots: magnetization vs T, energy vs T, Susceptibility vs T, Specifc Heat vs T\n",
    "# Add vertical line at theoretical T_c \n",
    "\n",
    "# TODO: Print relative difference between empirical and theoretical T_c\n",
    "# print(f\"Relative difference: {abs(T_empirical - T_critical)/T_critical * 100:.1f}%\")"
   ]
  },
  {
   "cell_type": "markdown",
   "id": "79dadb29",
   "metadata": {},
   "source": [
    "# Discussion\n",
    "\n",
    "**Answer the following questions based on your results:**\n",
    "\n",
    "## Part I: MC Integration\n",
    "\n",
    "1. What was your theoretical mass for uniform density and linear density (and exponential density if you did bonus)?\n",
    "2. How fast did MC integration converge to $1\\%$ error for each density distribution?\n",
    "2. Does the uncertainty scale as expected?\n",
    "\n",
    "## Part II: Ising Model  \n",
    "1. What critical temperature did you observe? Compare your T_c with theoretical value (2.269)."
   ]
  },
  {
   "cell_type": "markdown",
   "id": "1487b017",
   "metadata": {},
   "source": [
    "## Submission Instructions\n",
    "\n",
    "> **📋 Important Notice:** When you have completed all sections of this lab, please download your notebook as an HTML file for submission on Canvas.\n",
    "> \n",
    "> **To download as HTML:**\n",
    "> 1. Go to **File** → **Download as** → **HTML (.html)**\n",
    "> 2. Save the file with a descriptive name (e.g., `Lab3_YourName.html`)\n",
    "> 3. Upload the HTML file to the corresponding Canvas assignment\n",
    "> \n",
    "> Make sure all cells have been executed and all outputs are visible before downloading!"
   ]
  }
 ],
 "metadata": {
  "language_info": {
   "name": "python"
  }
 },
 "nbformat": 4,
 "nbformat_minor": 5
}
